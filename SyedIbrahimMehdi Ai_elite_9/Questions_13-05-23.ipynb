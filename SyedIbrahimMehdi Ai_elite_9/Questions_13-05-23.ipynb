{
 "cells": [
  {
   "cell_type": "markdown",
   "id": "6f64faa2",
   "metadata": {},
   "source": [
    "### WAP in python to greet yourself eg. Hello Vaibhav"
   ]
  },
  {
   "cell_type": "code",
   "execution_count": 1,
   "id": "7d9cb173",
   "metadata": {},
   "outputs": [
    {
     "name": "stdout",
     "output_type": "stream",
     "text": [
      "Hello Vaibhav\n"
     ]
    }
   ],
   "source": [
    "a='Hello Vaibhav'\n",
    "print(a)"
   ]
  },
  {
   "cell_type": "markdown",
   "id": "9ce5b437",
   "metadata": {},
   "source": [
    "### WAP in python to add 2 numbers"
   ]
  },
  {
   "cell_type": "code",
   "execution_count": 2,
   "id": "6ab9cd94",
   "metadata": {},
   "outputs": [
    {
     "name": "stdout",
     "output_type": "stream",
     "text": [
      "5\n"
     ]
    }
   ],
   "source": [
    "a=2+3\n",
    "print(a)"
   ]
  },
  {
   "cell_type": "markdown",
   "id": "0a76a718",
   "metadata": {},
   "source": [
    "### WAP in python to subtract 2 numbers"
   ]
  },
  {
   "cell_type": "code",
   "execution_count": 3,
   "id": "7f1e29e5",
   "metadata": {},
   "outputs": [
    {
     "name": "stdout",
     "output_type": "stream",
     "text": [
      "3\n"
     ]
    }
   ],
   "source": [
    "a=4-1\n",
    "print(a)"
   ]
  },
  {
   "cell_type": "markdown",
   "id": "7f31fe32",
   "metadata": {},
   "source": [
    "### WAP in python to Multiply 2 numbers"
   ]
  },
  {
   "cell_type": "code",
   "execution_count": 4,
   "id": "536dea3d",
   "metadata": {},
   "outputs": [
    {
     "name": "stdout",
     "output_type": "stream",
     "text": [
      "2209\n"
     ]
    }
   ],
   "source": [
    "a=47*47\n",
    "print(a)"
   ]
  },
  {
   "cell_type": "markdown",
   "id": "c7b8d1cb",
   "metadata": {},
   "source": [
    "### WAP in python to modulo 2 numbers"
   ]
  },
  {
   "cell_type": "code",
   "execution_count": 5,
   "id": "156774fc",
   "metadata": {},
   "outputs": [
    {
     "name": "stdout",
     "output_type": "stream",
     "text": [
      "8\n"
     ]
    }
   ],
   "source": [
    "a=8\n",
    "b=9\n",
    "c=a%b\n",
    "print(c)"
   ]
  },
  {
   "cell_type": "code",
   "execution_count": null,
   "id": "59c4d915",
   "metadata": {},
   "outputs": [],
   "source": []
  }
 ],
 "metadata": {
  "kernelspec": {
   "display_name": "Python 3 (ipykernel)",
   "language": "python",
   "name": "python3"
  },
  "language_info": {
   "codemirror_mode": {
    "name": "ipython",
    "version": 3
   },
   "file_extension": ".py",
   "mimetype": "text/x-python",
   "name": "python",
   "nbconvert_exporter": "python",
   "pygments_lexer": "ipython3",
   "version": "3.10.9"
  }
 },
 "nbformat": 4,
 "nbformat_minor": 5
}
