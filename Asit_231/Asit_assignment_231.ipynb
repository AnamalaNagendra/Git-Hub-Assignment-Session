{
 "cells": [
  {
   "cell_type": "code",
   "execution_count": 1,
   "id": "4c83c060",
   "metadata": {},
   "outputs": [
    {
     "name": "stdout",
     "output_type": "stream",
     "text": [
      "Hello Asit Kumar Behera\n"
     ]
    }
   ],
   "source": [
    "#1 WAP to greet yourself\n",
    "print(\"Hello Asit Kumar Behera\")"
   ]
  },
  {
   "cell_type": "code",
   "execution_count": 2,
   "id": "434df877",
   "metadata": {},
   "outputs": [
    {
     "name": "stdout",
     "output_type": "stream",
     "text": [
      "11\n"
     ]
    }
   ],
   "source": [
    "#2 WAP to add 2 numbers\n",
    "num1=5\n",
    "num2=6\n",
    "num3=num1+num2\n",
    "print(num3)"
   ]
  },
  {
   "cell_type": "code",
   "execution_count": 3,
   "id": "f15279fd",
   "metadata": {},
   "outputs": [
    {
     "name": "stdout",
     "output_type": "stream",
     "text": [
      "2\n"
     ]
    }
   ],
   "source": [
    "#3 WAP to subtract 3 numbers\n",
    "n1=5\n",
    "n2=3\n",
    "n3=n1-n2\n",
    "print(n3)"
   ]
  },
  {
   "cell_type": "code",
   "execution_count": 4,
   "id": "260db149",
   "metadata": {},
   "outputs": [
    {
     "name": "stdout",
     "output_type": "stream",
     "text": [
      "20\n"
     ]
    }
   ],
   "source": [
    "n1=4\n",
    "n2=5\n",
    "n3=n1*n2\n",
    "print(n3)"
   ]
  },
  {
   "cell_type": "code",
   "execution_count": 5,
   "id": "b01ee01e",
   "metadata": {},
   "outputs": [
    {
     "name": "stdout",
     "output_type": "stream",
     "text": [
      "0\n"
     ]
    }
   ],
   "source": [
    "n1=6\n",
    "n2=2\n",
    "n3=n1%n2\n",
    "print(n3)"
   ]
  }
 ],
 "metadata": {
  "kernelspec": {
   "display_name": "Python 3 (ipykernel)",
   "language": "python",
   "name": "python3"
  },
  "language_info": {
   "codemirror_mode": {
    "name": "ipython",
    "version": 3
   },
   "file_extension": ".py",
   "mimetype": "text/x-python",
   "name": "python",
   "nbconvert_exporter": "python",
   "pygments_lexer": "ipython3",
   "version": "3.9.13"
  }
 },
 "nbformat": 4,
 "nbformat_minor": 5
}
