{
 "cells": [
  {
   "cell_type": "code",
   "execution_count": 1,
   "id": "664bfa15",
   "metadata": {},
   "outputs": [
    {
     "name": "stdout",
     "output_type": "stream",
     "text": [
      "Hello Manoj Kumar !!!\n"
     ]
    }
   ],
   "source": [
    "print(\"Hello Manoj Kumar !!!\")"
   ]
  },
  {
   "cell_type": "code",
   "execution_count": 2,
   "id": "5093a8a3",
   "metadata": {},
   "outputs": [
    {
     "name": "stdout",
     "output_type": "stream",
     "text": [
      "50\n"
     ]
    }
   ],
   "source": [
    "print(22+28)"
   ]
  },
  {
   "cell_type": "code",
   "execution_count": 3,
   "id": "15ebd8f0",
   "metadata": {},
   "outputs": [
    {
     "name": "stdout",
     "output_type": "stream",
     "text": [
      "6\n"
     ]
    }
   ],
   "source": [
    "print(28-22)"
   ]
  },
  {
   "cell_type": "code",
   "execution_count": 4,
   "id": "5cf25e46",
   "metadata": {},
   "outputs": [
    {
     "name": "stdout",
     "output_type": "stream",
     "text": [
      "616\n"
     ]
    }
   ],
   "source": [
    "print(22*28)"
   ]
  },
  {
   "cell_type": "code",
   "execution_count": 5,
   "id": "8e4d76f5",
   "metadata": {},
   "outputs": [
    {
     "name": "stdout",
     "output_type": "stream",
     "text": [
      "6\n"
     ]
    }
   ],
   "source": [
    "print(28%22)"
   ]
  },
  {
   "cell_type": "code",
   "execution_count": null,
   "id": "19e83687",
   "metadata": {},
   "outputs": [],
   "source": []
  }
 ],
 "metadata": {
  "kernelspec": {
   "display_name": "Python 3 (ipykernel)",
   "language": "python",
   "name": "python3"
  },
  "language_info": {
   "codemirror_mode": {
    "name": "ipython",
    "version": 3
   },
   "file_extension": ".py",
   "mimetype": "text/x-python",
   "name": "python",
   "nbconvert_exporter": "python",
   "pygments_lexer": "ipython3",
   "version": "3.10.9"
  }
 },
 "nbformat": 4,
 "nbformat_minor": 5
}
