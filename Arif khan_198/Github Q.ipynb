{
 "cells": [
  {
   "cell_type": "code",
   "execution_count": null,
   "id": "f63ad377",
   "metadata": {},
   "outputs": [],
   "source": [
    "1) WAP in python to greet yourself eg. Hello Vaibhav"
   ]
  },
  {
   "cell_type": "code",
   "execution_count": 2,
   "id": "69ea49bf",
   "metadata": {},
   "outputs": [
    {
     "name": "stdout",
     "output_type": "stream",
     "text": [
      "Hello Vaibhav\n"
     ]
    }
   ],
   "source": [
    "name = \"Vaibhav\"\n",
    "print(\"Hello \" + name)\n"
   ]
  },
  {
   "cell_type": "code",
   "execution_count": null,
   "id": "aae4545a",
   "metadata": {},
   "outputs": [],
   "source": [
    "2) WAP in python to add 2 numbers"
   ]
  },
  {
   "cell_type": "code",
   "execution_count": 3,
   "id": "8ccbefd3",
   "metadata": {},
   "outputs": [
    {
     "name": "stdout",
     "output_type": "stream",
     "text": [
      "The sum of 5 and 7 is 12\n"
     ]
    }
   ],
   "source": [
    "num1 = 5\n",
    "num2 = 7\n",
    "sum = num1 + num2\n",
    "print(\"The sum of\", num1, \"and\", num2, \"is\", sum)\n"
   ]
  },
  {
   "cell_type": "code",
   "execution_count": null,
   "id": "70f26ebd",
   "metadata": {},
   "outputs": [],
   "source": [
    "3) WAP in python to subtract 2 numbers"
   ]
  },
  {
   "cell_type": "code",
   "execution_count": 4,
   "id": "a3dc09f4",
   "metadata": {},
   "outputs": [
    {
     "name": "stdout",
     "output_type": "stream",
     "text": [
      "The difference between 10 and 5 is 5\n"
     ]
    }
   ],
   "source": [
    "num1 = 10\n",
    "num2 = 5\n",
    "diff = num1 - num2\n",
    "print(\"The difference between\", num1, \"and\", num2, \"is\", diff)\n"
   ]
  },
  {
   "cell_type": "code",
   "execution_count": null,
   "id": "b633d0e3",
   "metadata": {},
   "outputs": [],
   "source": [
    "4) WAP in python to Multiply 2 numbers"
   ]
  },
  {
   "cell_type": "code",
   "execution_count": 5,
   "id": "7c642782",
   "metadata": {},
   "outputs": [
    {
     "name": "stdout",
     "output_type": "stream",
     "text": [
      "The product of 3 and 4 is 12\n"
     ]
    }
   ],
   "source": [
    "num1 = 3\n",
    "num2 = 4\n",
    "product = num1 * num2\n",
    "print(\"The product of\", num1, \"and\", num2, \"is\", product)\n"
   ]
  },
  {
   "cell_type": "code",
   "execution_count": null,
   "id": "2d3001f1",
   "metadata": {},
   "outputs": [],
   "source": [
    "5) WAP in python to modulo 2 numbers"
   ]
  },
  {
   "cell_type": "code",
   "execution_count": 6,
   "id": "a786d13c",
   "metadata": {},
   "outputs": [
    {
     "name": "stdout",
     "output_type": "stream",
     "text": [
      "The remainder when 11 is divided by 3 is 2\n"
     ]
    }
   ],
   "source": [
    "num1 = 11\n",
    "num2 = 3\n",
    "remainder = num1 % num2\n",
    "print(\"The remainder when\", num1, \"is divided by\", num2, \"is\", remainder)\n"
   ]
  },
  {
   "cell_type": "code",
   "execution_count": null,
   "id": "57795ce1",
   "metadata": {},
   "outputs": [],
   "source": []
  },
  {
   "cell_type": "code",
   "execution_count": null,
   "id": "2f90ec11",
   "metadata": {},
   "outputs": [],
   "source": []
  },
  {
   "cell_type": "code",
   "execution_count": null,
   "id": "97106200",
   "metadata": {},
   "outputs": [],
   "source": []
  },
  {
   "cell_type": "code",
   "execution_count": null,
   "id": "09bd6dbf",
   "metadata": {},
   "outputs": [],
   "source": []
  }
 ],
 "metadata": {
  "kernelspec": {
   "display_name": "Python 3 (ipykernel)",
   "language": "python",
   "name": "python3"
  },
  "language_info": {
   "codemirror_mode": {
    "name": "ipython",
    "version": 3
   },
   "file_extension": ".py",
   "mimetype": "text/x-python",
   "name": "python",
   "nbconvert_exporter": "python",
   "pygments_lexer": "ipython3",
   "version": "3.10.9"
  }
 },
 "nbformat": 4,
 "nbformat_minor": 5
}
