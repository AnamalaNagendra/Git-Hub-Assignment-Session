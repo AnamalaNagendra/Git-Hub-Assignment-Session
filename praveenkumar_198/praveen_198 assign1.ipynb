{
 "cells": [
  {
   "cell_type": "markdown",
   "id": "9e00e777",
   "metadata": {},
   "source": [
    " WAP in python to greet yourself eg. Hello Vaibhav\n",
    "WAP in python to add 2 numbers\n",
    " WAP in python to subtract 2 numbers\n",
    " WAP in python to Multiply 2 numbers\n",
    " WAP in python to modulo 2 numbers"
   ]
  },
  {
   "cell_type": "code",
   "execution_count": 2,
   "id": "2dcbb7ea",
   "metadata": {},
   "outputs": [
    {
     "name": "stdout",
     "output_type": "stream",
     "text": [
      "praveen\n"
     ]
    }
   ],
   "source": [
    "x = (\"praveen\")\n",
    "print(x)"
   ]
  },
  {
   "cell_type": "code",
   "execution_count": 3,
   "id": "fda5e3e1",
   "metadata": {},
   "outputs": [
    {
     "name": "stdout",
     "output_type": "stream",
     "text": [
      "3\n"
     ]
    }
   ],
   "source": [
    "a = 1\n",
    "b = 2\n",
    "print(a+b)"
   ]
  },
  {
   "cell_type": "code",
   "execution_count": 7,
   "id": "24889dc7",
   "metadata": {},
   "outputs": [
    {
     "name": "stdout",
     "output_type": "stream",
     "text": [
      "-1\n"
     ]
    }
   ],
   "source": [
    "a= 1\n",
    "b = 2\n",
    "print(a-b)"
   ]
  },
  {
   "cell_type": "code",
   "execution_count": 8,
   "id": "2ac00f7b",
   "metadata": {},
   "outputs": [
    {
     "name": "stdout",
     "output_type": "stream",
     "text": [
      "2\n"
     ]
    }
   ],
   "source": [
    "a= 1\n",
    "b = 2\n",
    "print(a*b)"
   ]
  },
  {
   "cell_type": "code",
   "execution_count": 9,
   "id": "0b19ecbd",
   "metadata": {},
   "outputs": [
    {
     "name": "stdout",
     "output_type": "stream",
     "text": [
      "0\n"
     ]
    }
   ],
   "source": [
    "a= 1\n",
    "b = 2\n",
    "print(a//b)"
   ]
  },
  {
   "cell_type": "code",
   "execution_count": null,
   "id": "1f2a847b",
   "metadata": {},
   "outputs": [],
   "source": []
  },
  {
   "cell_type": "code",
   "execution_count": null,
   "id": "bfb89b65",
   "metadata": {},
   "outputs": [],
   "source": []
  }
 ],
 "metadata": {
  "kernelspec": {
   "display_name": "Python 3 (ipykernel)",
   "language": "python",
   "name": "python3"
  },
  "language_info": {
   "codemirror_mode": {
    "name": "ipython",
    "version": 3
   },
   "file_extension": ".py",
   "mimetype": "text/x-python",
   "name": "python",
   "nbconvert_exporter": "python",
   "pygments_lexer": "ipython3",
   "version": "3.9.13"
  }
 },
 "nbformat": 4,
 "nbformat_minor": 5
}
