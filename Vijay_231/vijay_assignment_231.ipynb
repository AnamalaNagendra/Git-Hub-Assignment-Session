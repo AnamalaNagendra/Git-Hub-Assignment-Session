{
 "cells": [
  {
   "cell_type": "code",
   "execution_count": 2,
   "id": "8971acc9",
   "metadata": {},
   "outputs": [
    {
     "name": "stdout",
     "output_type": "stream",
     "text": [
      "Hello Vijay\n"
     ]
    }
   ],
   "source": [
    "#1) WAP in python to greet yourself \n",
    "\n",
    "print('Hello Vijay')"
   ]
  },
  {
   "cell_type": "code",
   "execution_count": 3,
   "id": "331ff7a6",
   "metadata": {},
   "outputs": [
    {
     "name": "stdout",
     "output_type": "stream",
     "text": [
      "35\n"
     ]
    }
   ],
   "source": [
    "# 2) WAP in python to add 2 numbers\n",
    "\n",
    "x=12\n",
    "y=23\n",
    "print(x+y)"
   ]
  },
  {
   "cell_type": "code",
   "execution_count": 4,
   "id": "544b54ca",
   "metadata": {},
   "outputs": [
    {
     "name": "stdout",
     "output_type": "stream",
     "text": [
      "-11\n"
     ]
    }
   ],
   "source": [
    "# 3) WAP in python to subtract 2 numbers\n",
    "x=12\n",
    "y=23\n",
    "print(x-y)"
   ]
  },
  {
   "cell_type": "code",
   "execution_count": 5,
   "id": "db9428c6",
   "metadata": {},
   "outputs": [
    {
     "name": "stdout",
     "output_type": "stream",
     "text": [
      "276\n"
     ]
    }
   ],
   "source": [
    "# 4) WAP in python to Multiply 2 numbers\n",
    "x=12\n",
    "y=23\n",
    "print(x*y)"
   ]
  },
  {
   "cell_type": "code",
   "execution_count": 8,
   "id": "0cd4dca0",
   "metadata": {},
   "outputs": [
    {
     "name": "stdout",
     "output_type": "stream",
     "text": [
      "8\n"
     ]
    }
   ],
   "source": [
    "# 5) WAP in python to modulo 2 numbers\n",
    "x=96\n",
    "y=12\n",
    "print(x//y)"
   ]
  }
 ],
 "metadata": {
  "kernelspec": {
   "display_name": "Python 3 (ipykernel)",
   "language": "python",
   "name": "python3"
  },
  "language_info": {
   "codemirror_mode": {
    "name": "ipython",
    "version": 3
   },
   "file_extension": ".py",
   "mimetype": "text/x-python",
   "name": "python",
   "nbconvert_exporter": "python",
   "pygments_lexer": "ipython3",
   "version": "3.9.13"
  }
 },
 "nbformat": 4,
 "nbformat_minor": 5
}
