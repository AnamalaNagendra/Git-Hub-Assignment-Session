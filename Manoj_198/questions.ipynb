{
 "cells": [
  {
   "cell_type": "markdown",
   "id": "4536a685",
   "metadata": {},
   "source": [
    "1) WAP in python to greet yourself eg. Hello Vaibhav"
   ]
  },
  {
   "cell_type": "code",
   "execution_count": 1,
   "id": "355644ac",
   "metadata": {},
   "outputs": [
    {
     "name": "stdout",
     "output_type": "stream",
     "text": [
      "Hello Vaibhav\n"
     ]
    }
   ],
   "source": [
    "print(\"Hello Vaibhav\")"
   ]
  },
  {
   "cell_type": "markdown",
   "id": "92d95542",
   "metadata": {},
   "source": [
    "2) WAP in python to add 2 numbers"
   ]
  },
  {
   "cell_type": "code",
   "execution_count": 2,
   "id": "8b7d98f2",
   "metadata": {},
   "outputs": [
    {
     "name": "stdout",
     "output_type": "stream",
     "text": [
      "15\n"
     ]
    }
   ],
   "source": [
    "a=10\n",
    "b=5\n",
    "c=a+b\n",
    "print(c)"
   ]
  },
  {
   "cell_type": "markdown",
   "id": "455270bc",
   "metadata": {},
   "source": [
    "3) WAP in python to subtract 2 numbers"
   ]
  },
  {
   "cell_type": "code",
   "execution_count": 3,
   "id": "3b81c551",
   "metadata": {},
   "outputs": [
    {
     "name": "stdout",
     "output_type": "stream",
     "text": [
      "3\n"
     ]
    }
   ],
   "source": [
    "a=8\n",
    "b=5\n",
    "c=a-b\n",
    "print(c)"
   ]
  },
  {
   "cell_type": "markdown",
   "id": "3adddcb8",
   "metadata": {},
   "source": [
    "4) WAP in python to Multiply 2 numbers"
   ]
  },
  {
   "cell_type": "code",
   "execution_count": 4,
   "id": "8bca6c97",
   "metadata": {},
   "outputs": [
    {
     "name": "stdout",
     "output_type": "stream",
     "text": [
      "40\n"
     ]
    }
   ],
   "source": [
    "a=8\n",
    "b=5\n",
    "c=a*b\n",
    "print(c)"
   ]
  },
  {
   "cell_type": "markdown",
   "id": "6a531865",
   "metadata": {},
   "source": [
    "5) WAP in python to modulo 2 numbers"
   ]
  },
  {
   "cell_type": "code",
   "execution_count": 5,
   "id": "59b84658",
   "metadata": {},
   "outputs": [
    {
     "name": "stdout",
     "output_type": "stream",
     "text": [
      "3\n"
     ]
    }
   ],
   "source": [
    "a=8\n",
    "b=5\n",
    "c=a%b\n",
    "print(c)"
   ]
  }
 ],
 "metadata": {
  "kernelspec": {
   "display_name": "Python 3 (ipykernel)",
   "language": "python",
   "name": "python3"
  },
  "language_info": {
   "codemirror_mode": {
    "name": "ipython",
    "version": 3
   },
   "file_extension": ".py",
   "mimetype": "text/x-python",
   "name": "python",
   "nbconvert_exporter": "python",
   "pygments_lexer": "ipython3",
   "version": "3.9.15"
  }
 },
 "nbformat": 4,
 "nbformat_minor": 5
}
